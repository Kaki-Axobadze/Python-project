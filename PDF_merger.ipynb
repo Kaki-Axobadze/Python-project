{
 "cells": [
  {
   "cell_type": "code",
   "execution_count": null,
   "metadata": {},
   "outputs": [],
   "source": [
    "import PyPDF2\n",
    "import sys\n",
    "import os\n",
    "merger = PyPDF2.PdfMerger()\n",
    "for file in os.listdir(os.curdir):\n",
    "    if file.endswith(\".pdf\"):\n",
    "        merger.append(file)\n",
    "    merger.write(\"შეერთებული_ფაილი.pdf\")\n"
   ]
  },
  {
   "cell_type": "markdown",
   "metadata": {},
   "source": []
  }
 ],
 "metadata": {
  "language_info": {
   "name": "python"
  },
  "orig_nbformat": 4
 },
 "nbformat": 4,
 "nbformat_minor": 2
}
